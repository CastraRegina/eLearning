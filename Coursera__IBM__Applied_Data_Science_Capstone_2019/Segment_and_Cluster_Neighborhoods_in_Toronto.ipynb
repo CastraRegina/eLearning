{
 "cells": [
  {
   "cell_type": "markdown",
   "metadata": {},
   "source": [
    "# Segment_and_Cluster_Neighborhoods_in_Toronto.ipynb\n",
    "\n",
    "This JupyterLab notebook is used for the capstone project of the course\n",
    "[IBM Applied Data Science Capstone](https://www.coursera.org/learn/applied-data-science-capstone)\n",
    "which is part of the overall course \n",
    "[IBM Data Science Professional Certificate](https://www.coursera.org/professional-certificates/ibm-data-science).  \n",
    "\n",
    "The programming language used is **Python** of the following version"
   ]
  },
  {
   "cell_type": "code",
   "execution_count": 1,
   "metadata": {},
   "outputs": [
    {
     "name": "stdout",
     "output_type": "stream",
     "text": [
      "3.7.3 (default, Mar 27 2019, 22:11:17) \n",
      "[GCC 7.3.0]\n"
     ]
    }
   ],
   "source": [
    "import sys\n",
    "print(sys.version)"
   ]
  },
  {
   "cell_type": "code",
   "execution_count": 2,
   "metadata": {},
   "outputs": [],
   "source": [
    "import pandas as pd\n",
    "import numpy as np\n",
    "\n",
    "from bs4 import BeautifulSoup\n",
    "import requests"
   ]
  },
  {
   "cell_type": "markdown",
   "metadata": {},
   "source": [
    "## Question 1\n",
    "Obtain a DataFrame of PostalCode, Borough, and Neighborhood from [Wikipedia page](https://en.wikipedia.org/wiki/List_of_postal_codes_of_Canada:_M)\n",
    "\n",
    "### Instructions (copied from assignment)\n",
    "- The dataframe will consist of three columns: PostalCode, Borough, and Neighborhood\n",
    "- Only process the cells that have an assigned borough. Ignore cells with a borough that is Not assigned.\n",
    "- More than one neighborhood can exist in one postal code area. For example, in the table on the Wikipedia page, you will notice that M5A is listed twice and has two neighborhoods: Harbourfront and Regent Park. These two rows will be combined into one row with the neighborhoods separated with a comma as shown in row 11 in the above table.\n",
    "- If a cell has a borough but a Not assigned neighborhood, then the neighborhood will be the same as the borough. So for the 9th cell in the table on the Wikipedia page, the value of the Borough and the Neighborhood columns will be Queen's Park.\n",
    "- Clean your Notebook and add Markdown cells to explain your work and any assumptions you are making.\n",
    "- In the last cell of your notebook, use the .shape method to print the number of rows of your dataframe."
   ]
  },
  {
   "cell_type": "code",
   "execution_count": 3,
   "metadata": {},
   "outputs": [
    {
     "name": "stdout",
     "output_type": "stream",
     "text": [
      "   PostalCode           Borough                      Neighborhood\n",
      "0         M3A        North York                         Parkwoods\n",
      "1         M4A        North York                  Victoria Village\n",
      "2         M5A  Downtown Toronto                      Harbourfront\n",
      "3         M6A        North York  Lawrence Heights, Lawrence Manor\n",
      "4         M7A      Queen's Park                      Queen's Park\n",
      "5         M9A  Downtown Toronto                      Queen's Park\n",
      "6         M1B       Scarborough                    Rouge, Malvern\n",
      "7         M3B        North York                   Don Mills North\n",
      "8         M4B         East York   Woodbine Gardens, Parkview Hill\n",
      "9         M5B  Downtown Toronto          Ryerson, Garden District\n",
      "10        M6B        North York                         Glencairn\n"
     ]
    }
   ],
   "source": [
    "url = \"https://en.wikipedia.org/wiki/List_of_postal_codes_of_Canada:_M\"\n",
    "\n",
    "with requests.get(url, timeout=5) as response:\n",
    "    soup = BeautifulSoup(response.content, 'html.parser')\n",
    "    table = soup.find(\"table\", class_=\"wikitable sortable\")\n",
    "    \n",
    "    # extract header:\n",
    "    header = table.tbody.find_all(\"tr\")[0]\n",
    "    heading = []\n",
    "    for th in header.find_all(\"th\"):\n",
    "        # remove any newlines and strip\n",
    "        heading.append(th.text.strip())\n",
    "    \n",
    "    # extract rows:\n",
    "    rows = []\n",
    "    table_rows = table.find_all('tr')\n",
    "    for tr in table_rows:\n",
    "        td = tr.find_all('td')\n",
    "        rows.append([i.text.strip() for i in td])\n",
    "    rows = rows[1:]\n",
    "    \n",
    "    # create DataFrame:\n",
    "    df = pd.DataFrame(rows, columns=heading)\n",
    "    \n",
    "    # INSTRUCTION: The dataframe will consist of three columns: \n",
    "    #              PostalCode, Borough, and Neighborhood\n",
    "    df.rename(columns={'Postcode': 'PostalCode',\n",
    "                       'District': 'Borough', \n",
    "                       'Neighbourhood':'Neighborhood'}, inplace=True)\n",
    "    \n",
    "    # INSTRUCTION: Only process the cells that have an assigned borough.\n",
    "    #              Ignore cells with a borough that is Not assigned:\n",
    "    df.drop(df[df['Borough']=='Not assigned'].index, inplace=True)\n",
    "\n",
    "    # INSTRUCTION: More than one neighborhood can exist in one postal code area.\n",
    "    #              Combine neighborhoods of the same borough into one row with\n",
    "    #              the neighborhoods separated with a comma:\n",
    "    df = df.groupby(['PostalCode','Borough'], sort=False).agg(', '.join).reset_index()\n",
    "    \n",
    "    # INSTRUCTION: If a cell has a borough but a Not assigned neighborhood,\n",
    "    #              then the neighborhood will be the same as the borough:\n",
    "    df.loc[df['Neighborhood'] =='Not assigned' , 'Neighborhood'] = df['Borough']\n",
    "    \n",
    "    print(df.head(11))"
   ]
  },
  {
   "cell_type": "code",
   "execution_count": 4,
   "metadata": {},
   "outputs": [
    {
     "data": {
      "text/plain": [
       "(103, 3)"
      ]
     },
     "execution_count": 4,
     "metadata": {},
     "output_type": "execute_result"
    }
   ],
   "source": [
    "df.shape"
   ]
  },
  {
   "cell_type": "markdown",
   "metadata": {},
   "source": [
    "## Question 2\n",
    "We need to get the latitude and the longitude coordinates of each neighborhood.  \n",
    "We use a csv file that has the geographical coordinates of each postal code: [http://cocl.us/Geospatial_data](http://cocl.us/Geospatial_data)\n"
   ]
  },
  {
   "cell_type": "code",
   "execution_count": 5,
   "metadata": {},
   "outputs": [],
   "source": [
    "# TODO: goon..."
   ]
  }
 ],
 "metadata": {
  "kernelspec": {
   "display_name": "Python 3",
   "language": "python",
   "name": "python3"
  },
  "language_info": {
   "codemirror_mode": {
    "name": "ipython",
    "version": 3
   },
   "file_extension": ".py",
   "mimetype": "text/x-python",
   "name": "python",
   "nbconvert_exporter": "python",
   "pygments_lexer": "ipython3",
   "version": "3.7.3"
  }
 },
 "nbformat": 4,
 "nbformat_minor": 4
}
