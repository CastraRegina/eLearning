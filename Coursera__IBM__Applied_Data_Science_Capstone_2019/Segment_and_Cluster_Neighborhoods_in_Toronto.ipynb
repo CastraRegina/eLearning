{
 "cells": [
  {
   "cell_type": "markdown",
   "metadata": {},
   "source": [
    "# Segment_and_Cluster_Neighborhoods_in_Toronto.ipynb\n",
    "\n",
    "This JupyterLab notebook is used for the capstone project of the course\n",
    "[IBM Applied Data Science Capstone](https://www.coursera.org/learn/applied-data-science-capstone)\n",
    "which is part of the overall course \n",
    "[IBM Data Science Professional Certificate](https://www.coursera.org/professional-certificates/ibm-data-science).  \n",
    "\n",
    "The programming language used is **Python** of the following version"
   ]
  },
  {
   "cell_type": "code",
   "execution_count": 1,
   "metadata": {},
   "outputs": [
    {
     "name": "stdout",
     "output_type": "stream",
     "text": [
      "3.7.3 (default, Mar 27 2019, 22:11:17) \n",
      "[GCC 7.3.0]\n"
     ]
    }
   ],
   "source": [
    "import sys\n",
    "print(sys.version)"
   ]
  },
  {
   "cell_type": "code",
   "execution_count": 2,
   "metadata": {},
   "outputs": [],
   "source": [
    "import pandas as pd\n",
    "import numpy as np\n",
    "\n",
    "from bs4 import BeautifulSoup\n",
    "import requests"
   ]
  },
  {
   "cell_type": "markdown",
   "metadata": {},
   "source": [
    "## Scrape the Wikipedia page\n",
    "Obtain PostalCode, Borough, and Neighborhood from [Wikipedia page](https://en.wikipedia.org/wiki/List_of_postal_codes_of_Canada:_M)"
   ]
  },
  {
   "cell_type": "code",
   "execution_count": 3,
   "metadata": {},
   "outputs": [],
   "source": [
    "url = \"https://en.wikipedia.org/wiki/List_of_postal_codes_of_Canada:_M\"\n",
    "\n",
    "page_response = requests.get(url, timeout=5)\n",
    "\n",
    "soup = BeautifulSoup(page_response.content, 'html.parser')\n",
    "\n",
    "#print(soup.prettify())\n",
    "\n",
    "#TODO: obtain the data..."
   ]
  }
 ],
 "metadata": {
  "kernelspec": {
   "display_name": "Python 3",
   "language": "python",
   "name": "python3"
  },
  "language_info": {
   "codemirror_mode": {
    "name": "ipython",
    "version": 3
   },
   "file_extension": ".py",
   "mimetype": "text/x-python",
   "name": "python",
   "nbconvert_exporter": "python",
   "pygments_lexer": "ipython3",
   "version": "3.7.3"
  }
 },
 "nbformat": 4,
 "nbformat_minor": 4
}
